{
 "cells": [
  {
   "cell_type": "markdown",
   "metadata": {
    "id": "144dKIXfuJIb"
   },
   "source": [
    "#### Copyright 2020 Elton Huang<br>\n",
    "<br>\n",
    "先定義一個 dictionary"
   ]
  },
  {
   "cell_type": "code",
   "execution_count": 1,
   "metadata": {
    "executionInfo": {
     "elapsed": 3056,
     "status": "ok",
     "timestamp": 1618862461758,
     "user": {
      "displayName": "Elton Huang",
      "photoUrl": "",
      "userId": "03129377041245062495"
     },
     "user_tz": -480
    },
    "id": "J3QLlE8RuJIi"
   },
   "outputs": [],
   "source": [
    "d = { \"a\" : 1, \"b\" : 2, \"c\" : 3}"
   ]
  },
  {
   "cell_type": "code",
   "execution_count": 2,
   "metadata": {
    "colab": {
     "base_uri": "https://localhost:8080/"
    },
    "executionInfo": {
     "elapsed": 1104,
     "status": "ok",
     "timestamp": 1618862466213,
     "user": {
      "displayName": "Elton Huang",
      "photoUrl": "",
      "userId": "03129377041245062495"
     },
     "user_tz": -480
    },
    "id": "o02qanwNuJIj",
    "outputId": "1f82be26-722b-4cf3-fa44-629ce623ae23"
   },
   "outputs": [
    {
     "output_type": "stream",
     "name": "stdout",
     "text": [
      "a 1\nb 2\nc 3\n"
     ]
    }
   ],
   "source": [
    "for key in d:\n",
    "    print (key, d [key])"
   ]
  },
  {
   "cell_type": "markdown",
   "metadata": {
    "id": "lZtIU_MAuJIj"
   },
   "source": [
    "一一檢視 dictionary 內容的方法方法 1:"
   ]
  },
  {
   "cell_type": "markdown",
   "metadata": {
    "id": "Ki01NDnFuJIl"
   },
   "source": [
    "一一檢視 dictionary 內容的方法方法 2:"
   ]
  },
  {
   "cell_type": "code",
   "execution_count": 3,
   "metadata": {
    "colab": {
     "base_uri": "https://localhost:8080/"
    },
    "executionInfo": {
     "elapsed": 1564,
     "status": "ok",
     "timestamp": 1618862469363,
     "user": {
      "displayName": "Elton Huang",
      "photoUrl": "",
      "userId": "03129377041245062495"
     },
     "user_tz": -480
    },
    "id": "iADJUlxtuJIl",
    "outputId": "13808d26-3843-4972-8bfc-f421f5ed889d"
   },
   "outputs": [
    {
     "output_type": "stream",
     "name": "stdout",
     "text": [
      "a 1\nb 2\nc 3\n"
     ]
    }
   ],
   "source": [
    "for key, value in d.items():\n",
    "    print (key, value)"
   ]
  },
  {
   "cell_type": "markdown",
   "metadata": {
    "id": "oR3mwQy7uJIl"
   },
   "source": [
    "如何在 dictionary 中加入新的 key/value"
   ]
  },
  {
   "cell_type": "code",
   "execution_count": 4,
   "metadata": {
    "colab": {
     "base_uri": "https://localhost:8080/"
    },
    "executionInfo": {
     "elapsed": 1859,
     "status": "ok",
     "timestamp": 1618862472803,
     "user": {
      "displayName": "Elton Huang",
      "photoUrl": "",
      "userId": "03129377041245062495"
     },
     "user_tz": -480
    },
    "id": "ItwKDb9cuJIl",
    "outputId": "adaa2561-6c42-4a22-bbbd-e998b58e1a24"
   },
   "outputs": [
    {
     "output_type": "stream",
     "name": "stdout",
     "text": [
      "{'a': 1, 'b': 2, 'c': 3, 'e': 5}\n"
     ]
    }
   ],
   "source": [
    "d [ \"e\" ] = 5\n",
    "print (d)"
   ]
  },
  {
   "cell_type": "markdown",
   "metadata": {
    "id": "emQwtqVHuJIm"
   },
   "source": [
    "要找 Youbike「植物園站」有幾輛車"
   ]
  },
  {
   "cell_type": "code",
   "execution_count": 5,
   "metadata": {
    "executionInfo": {
     "elapsed": 2029,
     "status": "ok",
     "timestamp": 1618862475532,
     "user": {
      "displayName": "Elton Huang",
      "photoUrl": "",
      "userId": "03129377041245062495"
     },
     "user_tz": -480
    },
    "id": "dNgJ9bj8uJIm"
   },
   "outputs": [],
   "source": [
    "# 先匯入要用到的模組\n",
    "import requests\n",
    "import time"
   ]
  },
  {
   "cell_type": "markdown",
   "metadata": {
    "id": "LekNmgbeuJIm"
   },
   "source": [
    "循序暴力窮舉搜尋"
   ]
  },
  {
   "cell_type": "code",
   "execution_count": 6,
   "metadata": {
    "executionInfo": {
     "elapsed": 1838,
     "status": "ok",
     "timestamp": 1618862478001,
     "user": {
      "displayName": "Elton Huang",
      "photoUrl": "",
      "userId": "03129377041245062495"
     },
     "user_tz": -480
    },
    "id": "ZrE2I25FuJIn"
   },
   "outputs": [],
   "source": [
    "def prBikeNum (stName): # 回傳搜尋部分花多少微秒\n",
    "    # 抓最新站況\n",
    "    ubikes = requests.get (\"https://tcgbusfs.blob.core.windows.net/blobyoubike/YouBikeTP.json\").json()[\"retVal\"]\n",
    "    start_time = time.time() # 開始搜尋的時間點\n",
    "    for stNo, stats in ubikes.items ():\n",
    "        if stats ['sna'] == stName:\n",
    "            print (stName + \": \" + stats ['sbi'])\n",
    "            return int ((time.time() - start_time)*1e6)\n",
    "    print (\"站名錯誤\")\n",
    "    return int ((time.time() - start_time)*1e6)"
   ]
  },
  {
   "cell_type": "code",
   "execution_count": 7,
   "metadata": {
    "colab": {
     "base_uri": "https://localhost:8080/"
    },
    "executionInfo": {
     "elapsed": 3823,
     "status": "ok",
     "timestamp": 1618862482477,
     "user": {
      "displayName": "Elton Huang",
      "photoUrl": "",
      "userId": "03129377041245062495"
     },
     "user_tz": -480
    },
    "id": "d1Zh1bBZuJIn",
    "outputId": "14e58911-c385-4aa9-abbd-3aac24adcd2c"
   },
   "outputs": [
    {
     "output_type": "stream",
     "name": "stdout",
     "text": [
      "植物園: 15\n--- 搜尋使用 201 微秒 ---\n重慶南海路口: 10\n--- 搜尋使用 210 微秒 ---\n"
     ]
    }
   ],
   "source": [
    "t = prBikeNum (\"植物園\")\n",
    "print(\"--- 搜尋使用 %s 微秒 ---\" % t)\n",
    "t = prBikeNum (\"重慶南海路口\")\n",
    "print(\"--- 搜尋使用 %s 微秒 ---\" % t)"
   ]
  },
  {
   "cell_type": "markdown",
   "metadata": {
    "id": "UIF8iwzyuJIn"
   },
   "source": [
    "如果站名不存在，要花多少時間？ O (n)"
   ]
  },
  {
   "cell_type": "code",
   "execution_count": 8,
   "metadata": {
    "colab": {
     "base_uri": "https://localhost:8080/"
    },
    "executionInfo": {
     "elapsed": 2430,
     "status": "ok",
     "timestamp": 1618862484325,
     "user": {
      "displayName": "Elton Huang",
      "photoUrl": "",
      "userId": "03129377041245062495"
     },
     "user_tz": -480
    },
    "id": "D-rK5mouuJIo",
    "outputId": "d602ef21-d32b-455e-a9d9-f89f4aea9e00"
   },
   "outputs": [
    {
     "output_type": "stream",
     "name": "stdout",
     "text": [
      "站名錯誤\n--- 搜尋使用 108 微秒 ---\n"
     ]
    }
   ],
   "source": [
    "t = prBikeNum ('南海重慶路口')\n",
    "print(\"--- 搜尋使用 %s 微秒 ---\" % t)"
   ]
  },
  {
   "cell_type": "markdown",
   "metadata": {
    "id": "cXlvIm0vuJIo"
   },
   "source": [
    "更有效率的演算法：<br>\n",
    "先建立站名到站號的對應關係 (用 dictionary; 因為這個關係不會變，所以做一次就好)"
   ]
  },
  {
   "cell_type": "code",
   "execution_count": 9,
   "metadata": {
    "executionInfo": {
     "elapsed": 2326,
     "status": "ok",
     "timestamp": 1618862487008,
     "user": {
      "displayName": "Elton Huang",
      "photoUrl": "",
      "userId": "03129377041245062495"
     },
     "user_tz": -480
    },
    "id": "EbfkxMf5uJIp"
   },
   "outputs": [],
   "source": [
    "ubikes = requests.get (\"https://tcgbusfs.blob.core.windows.net/blobyoubike/YouBikeTP.json\").json()[\"retVal\"]\n",
    "name2no = { }\n",
    "for stNo, stats in ubikes.items (): # no 是站號, stat 是站況\n",
    "    stName = stats [ 'sna' ] # 每一站的站名\n",
    "    name2no [ stName ] = stNo # 編一本從站名查站號的 dictionary name2no \n",
    "    # 比較厲害的寫法，上面 2 行寫成 1 行：\n",
    "    # name2no [ stat [ 'sna' ] ] = key"
   ]
  },
  {
   "cell_type": "markdown",
   "metadata": {
    "id": "XLvSU-_ruJIp"
   },
   "source": [
    "連同原來的 ubikes，現在有 2 個表<br>\n",
    "<img src=\"http://nandemoi.github.io/tables.png\" height=\"600px\"><br>\n",
    "之後查車數查表 2 次就有答案了。 O (1) + O (1) = O (1)<br>\n",
    "<br>\n",
    "註：Python dictionary 查表這類的做法通常是使用雜湊 (hash)，嚴格說起來在理想的狀況\n",
    "才能像陣列查表那樣做到 O (1)，最壞的狀況是 O (n)，效能的技巧在於好的 hashing function，請參考 https://www.jessicayung.com/how-python-implements-dictionaries/"
   ]
  },
  {
   "cell_type": "code",
   "execution_count": 10,
   "metadata": {
    "executionInfo": {
     "elapsed": 519,
     "status": "ok",
     "timestamp": 1618862488698,
     "user": {
      "displayName": "Elton Huang",
      "photoUrl": "",
      "userId": "03129377041245062495"
     },
     "user_tz": -480
    },
    "id": "LRevYtV6uJIp"
   },
   "outputs": [],
   "source": [
    "def prBikeNum1 (stName): # 回傳搜尋部分花多少微秒\n",
    "    # 抓最新站況\n",
    "    ubikes = requests.get (\"https://tcgbusfs.blob.core.windows.net/blobyoubike/YouBikeTP.json\").json()[\"retVal\"]\n",
    "    start_time = time.time() # 開始搜尋的時間點\n",
    "    try:\n",
    "        stNo = name2no [ stName ] # 查站名 stName 所對應的站號\n",
    "        stats = ubikes [ stNo ]    # 查站號 no 的站況\n",
    "        print (stName + \": \" + stats ['sbi'])\n",
    "        # 比較厲害的寫法，上面 3 行寫成 1 行\n",
    "        # print (stName + \": \" + ubikes [ name2no [ stName ] ]['bemp']) \n",
    "    except: # key error\n",
    "        print (\"站名錯誤\")\n",
    "    finally:\n",
    "        return int ((time.time() - start_time)*1e6)"
   ]
  },
  {
   "cell_type": "code",
   "execution_count": 11,
   "metadata": {
    "colab": {
     "base_uri": "https://localhost:8080/"
    },
    "executionInfo": {
     "elapsed": 3666,
     "status": "ok",
     "timestamp": 1618862494215,
     "user": {
      "displayName": "Elton Huang",
      "photoUrl": "",
      "userId": "03129377041245062495"
     },
     "user_tz": -480
    },
    "id": "WRE81P_AuJIp",
    "outputId": "939a273a-b42b-47a8-f916-58c15cab5647"
   },
   "outputs": [
    {
     "output_type": "stream",
     "name": "stdout",
     "text": [
      "植物園: 15\n--- 搜尋使用 79 微秒 ---\n重慶南海路口: 10\n--- 搜尋使用 132 微秒 ---\n"
     ]
    }
   ],
   "source": [
    "t = prBikeNum1 (\"植物園\")\n",
    "print(\"--- 搜尋使用 %s 微秒 ---\" % t)\n",
    "t = prBikeNum1 (\"重慶南海路口\")\n",
    "print(\"--- 搜尋使用 %s 微秒 ---\" % t)"
   ]
  },
  {
   "cell_type": "markdown",
   "metadata": {
    "id": "Pk_aYgV3uJIq"
   },
   "source": [
    "如果站名不存在，要花多少時間？ O (1)"
   ]
  },
  {
   "cell_type": "code",
   "execution_count": 12,
   "metadata": {
    "colab": {
     "base_uri": "https://localhost:8080/"
    },
    "executionInfo": {
     "elapsed": 2600,
     "status": "ok",
     "timestamp": 1618862496911,
     "user": {
      "displayName": "Elton Huang",
      "photoUrl": "",
      "userId": "03129377041245062495"
     },
     "user_tz": -480
    },
    "id": "W_KdukLXuJIq",
    "outputId": "60e14e98-44d7-4591-83f6-64633fe43891"
   },
   "outputs": [
    {
     "output_type": "stream",
     "name": "stdout",
     "text": [
      "站名錯誤\n--- 搜尋使用 86 微秒 ---\n"
     ]
    }
   ],
   "source": [
    "t = prBikeNum1 ('南海重慶路口')\n",
    "print(\"--- 搜尋使用 %s 微秒 ---\" % t)"
   ]
  },
  {
   "cell_type": "markdown",
   "metadata": {
    "id": "HrSPg9eyuJIq"
   },
   "source": [
    "捲回去比較一下 !!!\n",
    "\n",
    "可能有同學迫不及待想嗆老師：整體又差不了多少！是沒有錯，因為現在 CPU 速度都很快，整個操作的瓶頸在網路資料的接收，後面的搜尋相較起來不成比例。<br>\n",
    "所以請思考 2 個問題：<br>\n",
    "(1) 會不會計算硬體效能越來越好，研究有效率的演算法越來越不重要？新的計算硬體科技興起會不會淘汰舊的運算思維模式？<br>\n",
    "(2) 通訊是操作的瓶頸，如果通訊科技變快了 (例如 5G)，那瓶頸是不是還在網路？<br>\n",
    "答案就留給同學自己在歷程發揮，我就不明講。台北市 Youbikes 只有幾百個站，如果你的資料量大到呈指數倍成長時，問題還是一樣嗎？<br>\n",
    "<br>\n",
    "半個學期的專題能夠完成的有限，這個價值是我認為同學可以在歷程中呈現的。本來想讓同學自己想出來，不過好像不少同學可以從這樣的帶領獲得一點認識。"
   ]
  },
  {
   "cell_type": "markdown",
   "metadata": {
    "id": "u5BBNAA-uJIq"
   },
   "source": [
    "同場加映：<br>\n",
    "下拉式選單 https://stackoverflow.com/questions/34020789/ipywidgets-dropdown-widgets-what-is-the-onchange-event"
   ]
  },
  {
   "cell_type": "code",
   "execution_count": 13,
   "metadata": {
    "colab": {
     "base_uri": "https://localhost:8080/",
     "height": 49,
     "referenced_widgets": [
      "67aae7489e894f75a18bfc14d7a43db4",
      "56e4d7f72ddf4d6083e0ca125b416870",
      "288e8f46c7804b2bb496172222bccf2f"
     ]
    },
    "executionInfo": {
     "elapsed": 525,
     "status": "ok",
     "timestamp": 1618862533807,
     "user": {
      "displayName": "Elton Huang",
      "photoUrl": "",
      "userId": "03129377041245062495"
     },
     "user_tz": -480
    },
    "id": "lMxNM7UluJIr",
    "outputId": "ba71e719-408c-4590-a8ac-c6876a76f8ed"
   },
   "outputs": [
    {
     "output_type": "display_data",
     "data": {
      "text/plain": "Dropdown(description='請選擇:', index=1, options=('植物園', '重慶南海路口', '和平重慶路口', '臺北市立大學'), value='重慶南海路口')",
      "application/vnd.jupyter.widget-view+json": {
       "version_major": 2,
       "version_minor": 0,
       "model_id": "987d3026ba1246eb9228131b334537b3"
      }
     },
     "metadata": {}
    }
   ],
   "source": [
    "import ipywidgets as wgts\n",
    "\n",
    "stName = wgts.Dropdown(\n",
    "    options=['植物園', '重慶南海路口', '和平重慶路口', '臺北市立大學'],\n",
    "    value='重慶南海路口',\n",
    "    description='請選擇:',\n",
    ")\n",
    "display (stName)"
   ]
  },
  {
   "source": [
    "選定上面的選單後，再執行下面的程式塊"
   ],
   "cell_type": "markdown",
   "metadata": {}
  },
  {
   "cell_type": "code",
   "execution_count": 14,
   "metadata": {
    "colab": {
     "base_uri": "https://localhost:8080/"
    },
    "executionInfo": {
     "elapsed": 2028,
     "status": "ok",
     "timestamp": 1618862540950,
     "user": {
      "displayName": "Elton Huang",
      "photoUrl": "",
      "userId": "03129377041245062495"
     },
     "user_tz": -480
    },
    "id": "51qyvJ0duJIr",
    "outputId": "69d775a9-07f1-4589-8839-7cafebd7e540"
   },
   "outputs": [
    {
     "output_type": "stream",
     "name": "stdout",
     "text": [
      "重慶南海路口: 10\n--- 搜尋使用 83 微秒 ---\n"
     ]
    }
   ],
   "source": [
    "t = prBikeNum1 (stName.value)\n",
    "print(\"--- 搜尋使用 %s 微秒 ---\" % t)"
   ]
  },
  {
   "source": [
    "較進階的做法：互動網頁"
   ],
   "cell_type": "markdown",
   "metadata": {}
  },
  {
   "cell_type": "code",
   "execution_count": 15,
   "metadata": {},
   "outputs": [
    {
     "output_type": "display_data",
     "data": {
      "text/plain": "Button(description='點擊看所選站最新車數', style=ButtonStyle())",
      "application/vnd.jupyter.widget-view+json": {
       "version_major": 2,
       "version_minor": 0,
       "model_id": "c0fc8c698a1743e38ecf740846832c77"
      }
     },
     "metadata": {}
    },
    {
     "output_type": "display_data",
     "data": {
      "text/plain": "Output()",
      "application/vnd.jupyter.widget-view+json": {
       "version_major": 2,
       "version_minor": 0,
       "model_id": "76dcf011f7024e9abb34b6f3c7bb884b"
      }
     },
     "metadata": {}
    }
   ],
   "source": [
    "import ipywidgets as wgts\n",
    "from IPython.display import display\n",
    "button = wgts.Button(description=\"點擊看所選站最新車數\")\n",
    "output = wgts.Output()\n",
    "\n",
    "display(button, output)\n",
    "\n",
    "def on_button_clicked(b):\n",
    "    with output:\n",
    "        prBikeNum1 (stName.value)\n",
    "\n",
    "button.on_click(on_button_clicked)"
   ]
  }
 ],
 "metadata": {
  "colab": {
   "name": "knowhows.ipynb",
   "provenance": []
  },
  "kernelspec": {
   "name": "python385jvsc74a57bd049c522ec57c053bc664bbfb232439362b59d8adb058f205bf99c22405bfbee1e",
   "display_name": "Python 3.8.5 64-bit ('base': conda)"
  },
  "language_info": {
   "codemirror_mode": {
    "name": "ipython",
    "version": 3
   },
   "file_extension": ".py",
   "mimetype": "text/x-python",
   "name": "python",
   "nbconvert_exporter": "python",
   "pygments_lexer": "ipython3",
   "version": "3.8.5-final"
  },
  "metadata": {
   "interpreter": {
    "hash": "ac2eaa0ea0ebeafcc7822e65e46aa9d4f966f30b695406963e145ea4a91cd4fc"
   }
  },
  "widgets": {
   "application/vnd.jupyter.widget-state+json": {
    "288e8f46c7804b2bb496172222bccf2f": {
     "model_module": "@jupyter-widgets/base",
     "model_name": "LayoutModel",
     "state": {
      "_model_module": "@jupyter-widgets/base",
      "_model_module_version": "1.2.0",
      "_model_name": "LayoutModel",
      "_view_count": null,
      "_view_module": "@jupyter-widgets/base",
      "_view_module_version": "1.2.0",
      "_view_name": "LayoutView",
      "align_content": null,
      "align_items": null,
      "align_self": null,
      "border": null,
      "bottom": null,
      "display": null,
      "flex": null,
      "flex_flow": null,
      "grid_area": null,
      "grid_auto_columns": null,
      "grid_auto_flow": null,
      "grid_auto_rows": null,
      "grid_column": null,
      "grid_gap": null,
      "grid_row": null,
      "grid_template_areas": null,
      "grid_template_columns": null,
      "grid_template_rows": null,
      "height": null,
      "justify_content": null,
      "justify_items": null,
      "left": null,
      "margin": null,
      "max_height": null,
      "max_width": null,
      "min_height": null,
      "min_width": null,
      "object_fit": null,
      "object_position": null,
      "order": null,
      "overflow": null,
      "overflow_x": null,
      "overflow_y": null,
      "padding": null,
      "right": null,
      "top": null,
      "visibility": null,
      "width": null
     }
    },
    "56e4d7f72ddf4d6083e0ca125b416870": {
     "model_module": "@jupyter-widgets/controls",
     "model_name": "DescriptionStyleModel",
     "state": {
      "_model_module": "@jupyter-widgets/controls",
      "_model_module_version": "1.5.0",
      "_model_name": "DescriptionStyleModel",
      "_view_count": null,
      "_view_module": "@jupyter-widgets/base",
      "_view_module_version": "1.2.0",
      "_view_name": "StyleView",
      "description_width": ""
     }
    },
    "67aae7489e894f75a18bfc14d7a43db4": {
     "model_module": "@jupyter-widgets/controls",
     "model_name": "DropdownModel",
     "state": {
      "_dom_classes": [],
      "_model_module": "@jupyter-widgets/controls",
      "_model_module_version": "1.5.0",
      "_model_name": "DropdownModel",
      "_options_labels": [
       "植物園",
       "重慶南海路口",
       "和平重慶路口",
       "臺北市立大學"
      ],
      "_view_count": null,
      "_view_module": "@jupyter-widgets/controls",
      "_view_module_version": "1.5.0",
      "_view_name": "DropdownView",
      "description": "請選擇:",
      "description_tooltip": null,
      "disabled": false,
      "index": 0,
      "layout": "IPY_MODEL_288e8f46c7804b2bb496172222bccf2f",
      "style": "IPY_MODEL_56e4d7f72ddf4d6083e0ca125b416870"
     }
    }
   }
  }
 },
 "nbformat": 4,
 "nbformat_minor": 4
}